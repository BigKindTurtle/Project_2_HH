{
  "cells": [
    {
      "cell_type": "markdown",
      "id": "42289889-bd57-434e-9637-d3e354756316",
      "metadata": {
        "id": "42289889-bd57-434e-9637-d3e354756316"
      },
      "source": [
        "<center> <img src = https://raw.githubusercontent.com/AndreyRysistov/DatasetsForPandas/main/hh%20label.jpg alt=\"drawing\" style=\"width:400px;\">"
      ]
    },
    {
      "cell_type": "markdown",
      "id": "829cb75b-f14e-4ba8-9195-7ba929a7d656",
      "metadata": {
        "id": "829cb75b-f14e-4ba8-9195-7ba929a7d656",
        "tags": []
      },
      "source": [
        "# <center> Проект: Анализ вакансий из HeadHunter\n",
        "   "
      ]
    },
    {
      "cell_type": "code",
      "execution_count": 113,
      "id": "dccfde33-2452-43fb-a8a5-5c6ebc02a71d",
      "metadata": {
        "id": "dccfde33-2452-43fb-a8a5-5c6ebc02a71d"
      },
      "outputs": [],
      "source": [
        "import pandas as pd\n",
        "import psycopg2"
      ]
    },
    {
      "cell_type": "code",
      "execution_count": 114,
      "id": "oVKH4ehvf8Ay",
      "metadata": {
        "id": "oVKH4ehvf8Ay"
      },
      "outputs": [],
      "source": [
        "# вставьте сюда параметры подключения из юнита 1. Работа с базой данных из Python "
      ]
    },
    {
      "cell_type": "markdown",
      "id": "0dc6476b-7a00-44f1-ac93-6e3baed33a29",
      "metadata": {
        "id": "0dc6476b-7a00-44f1-ac93-6e3baed33a29"
      },
      "source": [
        "# Юнит 3. Предварительный анализ данных"
      ]
    },
    {
      "cell_type": "markdown",
      "id": "889782b6-8d1c-410e-8920-e57f27917c64",
      "metadata": {
        "id": "889782b6-8d1c-410e-8920-e57f27917c64"
      },
      "source": [
        "1. Напишите запрос, который посчитает количество вакансий в нашей базе (вакансии находятся в таблице vacancies). "
      ]
    },
    {
      "cell_type": "code",
      "execution_count": 116,
      "id": "da2e370c",
      "metadata": {},
      "outputs": [],
      "source": [
        "# поиск уникальных id вакансий в таблице vacancies\n",
        "query_3_1 = '''SELECT count(distinct id) as unique_vacancy_count\n",
        "               FROM vacancies;'''"
      ]
    },
    {
      "cell_type": "code",
      "execution_count": 117,
      "id": "1709b35d",
      "metadata": {},
      "outputs": [
        {
          "name": "stdout",
          "output_type": "stream",
          "text": [
            "   unique_vacancy_count\n",
            "0                 49197\n"
          ]
        },
        {
          "name": "stderr",
          "output_type": "stream",
          "text": [
            "C:\\Users\\vani003\\AppData\\Local\\Temp\\ipykernel_8652\\3051125570.py:1: UserWarning: pandas only supports SQLAlchemy connectable (engine/connection) or database string URI or sqlite3 DBAPI2 connection. Other DBAPI2 objects are not tested. Please consider using SQLAlchemy.\n",
            "  df = pd.read_sql_query(query_3_1, connection)\n"
          ]
        }
      ],
      "source": [
        "df = pd.read_sql_query(query_3_1, connection)\n",
        "print(df)"
      ]
    },
    {
      "cell_type": "markdown",
      "id": "b583485d-1f9e-494e-ada4-80ffff7c53d6",
      "metadata": {
        "id": "b583485d-1f9e-494e-ada4-80ffff7c53d6"
      },
      "source": [
        "2. Напишите запрос, который посчитает количество работодателей (таблица employers). "
      ]
    },
    {
      "cell_type": "code",
      "execution_count": 118,
      "id": "5408c52c-3407-4a63-b25b-1aafa2322d28",
      "metadata": {
        "id": "5408c52c-3407-4a63-b25b-1aafa2322d28"
      },
      "outputs": [],
      "source": [
        "# поиск уникальных id работодателей в таблице employers\n",
        "query_3_2 = f'''SELECT count(distinct id) as unique_employer_count                \n",
        "                FROM employers;'''\n"
      ]
    },
    {
      "cell_type": "code",
      "execution_count": 119,
      "id": "d79b3c22",
      "metadata": {},
      "outputs": [
        {
          "name": "stdout",
          "output_type": "stream",
          "text": [
            "   unique_employer_count\n",
            "0                  23501\n"
          ]
        },
        {
          "name": "stderr",
          "output_type": "stream",
          "text": [
            "C:\\Users\\vani003\\AppData\\Local\\Temp\\ipykernel_8652\\198591577.py:1: UserWarning: pandas only supports SQLAlchemy connectable (engine/connection) or database string URI or sqlite3 DBAPI2 connection. Other DBAPI2 objects are not tested. Please consider using SQLAlchemy.\n",
            "  df = pd.read_sql_query(query_3_2, connection)\n"
          ]
        }
      ],
      "source": [
        "df = pd.read_sql_query(query_3_2, connection)\n",
        "print(df)"
      ]
    },
    {
      "cell_type": "markdown",
      "id": "a2bfff1f-c975-4bf6-84be-2185d79dcb76",
      "metadata": {
        "id": "a2bfff1f-c975-4bf6-84be-2185d79dcb76"
      },
      "source": [
        "3. Посчитате с помощью запроса количество регионов (таблица areas)."
      ]
    },
    {
      "cell_type": "code",
      "execution_count": 120,
      "id": "1m8QJwBYhey6",
      "metadata": {
        "id": "1m8QJwBYhey6"
      },
      "outputs": [],
      "source": [
        "# поиск уникальных id локаций в таблице areas\n",
        "query_3_3 = f'''SELECT count(distinct id) as unique_area_count\n",
        "                FROM areas;'''"
      ]
    },
    {
      "cell_type": "code",
      "execution_count": 121,
      "id": "b854a13c",
      "metadata": {},
      "outputs": [
        {
          "name": "stdout",
          "output_type": "stream",
          "text": [
            "   unique_area_count\n",
            "0               1362\n"
          ]
        },
        {
          "name": "stderr",
          "output_type": "stream",
          "text": [
            "C:\\Users\\vani003\\AppData\\Local\\Temp\\ipykernel_8652\\2593644333.py:1: UserWarning: pandas only supports SQLAlchemy connectable (engine/connection) or database string URI or sqlite3 DBAPI2 connection. Other DBAPI2 objects are not tested. Please consider using SQLAlchemy.\n",
            "  df = pd.read_sql_query(query_3_3, connection)\n"
          ]
        }
      ],
      "source": [
        "df = pd.read_sql_query(query_3_3, connection)\n",
        "print(df)"
      ]
    },
    {
      "cell_type": "markdown",
      "id": "41bb59f3-53cc-4a67-a5bc-bedf573955e4",
      "metadata": {
        "id": "41bb59f3-53cc-4a67-a5bc-bedf573955e4"
      },
      "source": [
        "4. Посчитате с помощью запроса количество сфер деятельности в базе (таблица industries)."
      ]
    },
    {
      "cell_type": "code",
      "execution_count": 122,
      "id": "d286cf4c-707b-4cd2-9190-7ab3587d04a1",
      "metadata": {
        "id": "d286cf4c-707b-4cd2-9190-7ab3587d04a1"
      },
      "outputs": [],
      "source": [
        "# поиск уникальных id индустрий в таблице industries\n",
        "query_3_4 = f'''SELECT count(distinct id) as unique_industries_count\n",
        "                FROM industries;'''"
      ]
    },
    {
      "cell_type": "code",
      "execution_count": 123,
      "id": "cc4c9a55",
      "metadata": {},
      "outputs": [
        {
          "name": "stderr",
          "output_type": "stream",
          "text": [
            "C:\\Users\\vani003\\AppData\\Local\\Temp\\ipykernel_8652\\2881202045.py:1: UserWarning: pandas only supports SQLAlchemy connectable (engine/connection) or database string URI or sqlite3 DBAPI2 connection. Other DBAPI2 objects are not tested. Please consider using SQLAlchemy.\n",
            "  df = pd.read_sql_query(query_3_4, connection)\n"
          ]
        },
        {
          "name": "stdout",
          "output_type": "stream",
          "text": [
            "   unique_industries_count\n",
            "0                      294\n"
          ]
        }
      ],
      "source": [
        "df = pd.read_sql_query(query_3_4, connection)\n",
        "print(df)"
      ]
    },
    {
      "cell_type": "markdown",
      "id": "9a8a2181-6914-448b-85f1-38f5f18b8a93",
      "metadata": {
        "id": "9a8a2181-6914-448b-85f1-38f5f18b8a93"
      },
      "source": [
        "***"
      ]
    },
    {
      "cell_type": "markdown",
      "id": "354d028a",
      "metadata": {},
      "source": [
        "В анализируемой базе данных содержится 49 197 вакансий от 23 501 работодателя, охватывающих 1 362 региона и относящихся к 294 различным сферам деятельности. База включает пять связанных таблиц, которые содержат 11 параметров, подлежащих анализу, а также 8 индентификационных ключей. В базе описываются значимые навыки, режим работы и тип занятости, а также ожидания по заработной плате соискателей.\n",
        "\n",
        "Понятно, что объем такой информации сложно оценить без применения вспомогательных алгоритмов поиска. Модель машинного обучения, основанная на анализе данных кадрового агентства, может использовать разнообразные методы и алгоритмы анализа, чтобы выявлять закономерности, предпочтения работодателей и требования к кандидатам. Прежде всего, она может проанализировать актуальные тенденции на рынке труда в IT, используя информацию о вакансиях. В результате этого анализа модель сможет рекомендовать клиенту изучение и развитие определенных технологий или языков программирования, которые в настоящее время пользуются наибольшим спросом. Например, если в базе данных преобладают вакансии для специалистов, знающих Python и машинное обучение, она может предложить клиенту пройти курсы по этим темам.\n",
        "\n",
        "Кроме того, модель сможет оценить резюме клиента на предмет его соответствия требованиям работодателей. Это включает в себя анализ ключевых слов и фраз, характерных для успешных резюме других соискателей, содержащихся в базе. Если, скажем, большинство удачных кандидатов обладает опытом работы с определенными фреймворками или инструментами, модель сможет посоветовать клиенту обновить резюме, выделив эти навыки. Также она сможет углубленно исследовать личные предпочтения клиента и его карьерные цели. Например, изучая информацию о компаниях, где работают другие кандидаты с похожими профилями, модель может рекомендовать клиенту обратить внимание на определенные организации, которые соответствуют его интересам и ценностям."
      ]
    },
    {
      "cell_type": "markdown",
      "id": "8d62a9f3-f64e-4fe7-bdac-c4dffa16155e",
      "metadata": {
        "id": "8d62a9f3-f64e-4fe7-bdac-c4dffa16155e"
      },
      "source": [
        "# Юнит 4. Детальный анализ вакансий"
      ]
    },
    {
      "cell_type": "markdown",
      "id": "93053d3d-b284-481a-9cf7-012d7014c0e0",
      "metadata": {
        "id": "93053d3d-b284-481a-9cf7-012d7014c0e0"
      },
      "source": [
        "1. Напишите запрос, который позволит узнать, сколько (cnt) вакансий в каждом регионе (area).\n",
        "Отсортируйте по количеству вакансий в порядке убывания."
      ]
    },
    {
      "cell_type": "code",
      "execution_count": 124,
      "id": "3f069da6-fdc9-4ae7-b514-fafe2675efd3",
      "metadata": {
        "id": "3f069da6-fdc9-4ae7-b514-fafe2675efd3"
      },
      "outputs": [],
      "source": [
        "# подсчет количества вакансий для каждого уникального id локации и поиск наименования локации \n",
        "query_4_1 = f'''SELECT     \n",
        "                    a.name as region_name,\n",
        "                    count(v.area_id) as cnt\n",
        "                FROM \n",
        "                    vacancies v\n",
        "                JOIN \n",
        "                    areas a on v.area_id = a.id\n",
        "                GROUP BY \n",
        "                    a.name\n",
        "                ORDER BY \n",
        "                    cnt DESC\n",
        "                limit 5;;'''"
      ]
    },
    {
      "cell_type": "code",
      "execution_count": 125,
      "id": "P7QL86hrjhRJ",
      "metadata": {
        "id": "P7QL86hrjhRJ"
      },
      "outputs": [
        {
          "name": "stderr",
          "output_type": "stream",
          "text": [
            "C:\\Users\\vani003\\AppData\\Local\\Temp\\ipykernel_8652\\3065681533.py:1: UserWarning: pandas only supports SQLAlchemy connectable (engine/connection) or database string URI or sqlite3 DBAPI2 connection. Other DBAPI2 objects are not tested. Please consider using SQLAlchemy.\n",
            "  df = pd.read_sql_query(query_4_1, connection)\n"
          ]
        },
        {
          "name": "stdout",
          "output_type": "stream",
          "text": [
            "       region_name   cnt\n",
            "0           Москва  5333\n",
            "1  Санкт-Петербург  2851\n",
            "2            Минск  2112\n",
            "3      Новосибирск  2006\n",
            "4           Алматы  1892\n"
          ]
        }
      ],
      "source": [
        "df = pd.read_sql_query(query_4_1, connection)\n",
        "print(df)"
      ]
    },
    {
      "cell_type": "markdown",
      "id": "4266f0b6-1646-492a-88b4-2f6a46502135",
      "metadata": {
        "id": "4266f0b6-1646-492a-88b4-2f6a46502135"
      },
      "source": [
        "2. Напишите запрос, чтобы определить у какого количества вакансий заполнено хотя бы одно из двух полей с зарплатой."
      ]
    },
    {
      "cell_type": "code",
      "execution_count": 126,
      "id": "0c44b350-72eb-4d65-8b54-a1fc449ba9fd",
      "metadata": {
        "id": "0c44b350-72eb-4d65-8b54-a1fc449ba9fd"
      },
      "outputs": [],
      "source": [
        "# подсчет количества вакансий с сообщеными пользователями параметрами salary \n",
        "query_4_2 = f'''SELECT \n",
        "                    count(*) as cnt\n",
        "                FROM \n",
        "                    vacancies\n",
        "                WHERE \n",
        "                    salary_from is not null or salary_to is not null;'''"
      ]
    },
    {
      "cell_type": "code",
      "execution_count": 127,
      "id": "rhvwaMDkoWTi",
      "metadata": {
        "id": "rhvwaMDkoWTi"
      },
      "outputs": [
        {
          "name": "stderr",
          "output_type": "stream",
          "text": [
            "C:\\Users\\vani003\\AppData\\Local\\Temp\\ipykernel_8652\\2394163103.py:1: UserWarning: pandas only supports SQLAlchemy connectable (engine/connection) or database string URI or sqlite3 DBAPI2 connection. Other DBAPI2 objects are not tested. Please consider using SQLAlchemy.\n",
            "  df = pd.read_sql_query(query_4_2, connection)\n"
          ]
        },
        {
          "name": "stdout",
          "output_type": "stream",
          "text": [
            "     cnt\n",
            "0  24073\n"
          ]
        }
      ],
      "source": [
        "df = pd.read_sql_query(query_4_2, connection)\n",
        "print(df)"
      ]
    },
    {
      "cell_type": "markdown",
      "id": "635c4d5d-f323-4c66-b428-50a088120aa0",
      "metadata": {
        "id": "635c4d5d-f323-4c66-b428-50a088120aa0"
      },
      "source": [
        "3. Найдите средние значения для нижней и верхней границы зарплатной вилки. Округлите значения до целого."
      ]
    },
    {
      "cell_type": "code",
      "execution_count": 128,
      "id": "603cdbe4-0ec3-4106-8eaf-c73fcdd29165",
      "metadata": {
        "id": "603cdbe4-0ec3-4106-8eaf-c73fcdd29165"
      },
      "outputs": [],
      "source": [
        "query_4_3 = f'''SELECT \n",
        "                    round(avg(salary_from)) AS avg_salary_from,\n",
        "                    round(avg(salary_to)) AS avg_salary_to\n",
        "                FROM \n",
        "                    Vacancies'''"
      ]
    },
    {
      "cell_type": "code",
      "execution_count": 129,
      "id": "pswpAb66ovZZ",
      "metadata": {
        "id": "pswpAb66ovZZ"
      },
      "outputs": [
        {
          "name": "stderr",
          "output_type": "stream",
          "text": [
            "C:\\Users\\vani003\\AppData\\Local\\Temp\\ipykernel_8652\\261386216.py:1: UserWarning: pandas only supports SQLAlchemy connectable (engine/connection) or database string URI or sqlite3 DBAPI2 connection. Other DBAPI2 objects are not tested. Please consider using SQLAlchemy.\n",
            "  df = pd.read_sql_query(query_4_3, connection)\n"
          ]
        },
        {
          "name": "stdout",
          "output_type": "stream",
          "text": [
            "   avg_salary_from  avg_salary_to\n",
            "0          71065.0       110537.0\n"
          ]
        }
      ],
      "source": [
        "df = pd.read_sql_query(query_4_3, connection)\n",
        "print(df)"
      ]
    },
    {
      "cell_type": "markdown",
      "id": "f3fdaec9-5fd3-4260-9cf5-1d7406b628a5",
      "metadata": {
        "id": "f3fdaec9-5fd3-4260-9cf5-1d7406b628a5"
      },
      "source": [
        "4. Напишите запрос, который выведет количество вакансий для каждого сочетания типа рабочего графика (schedule) и типа трудоустройства (employment), используемого в вакансиях. Результат отсортируйте по убыванию количества.\n"
      ]
    },
    {
      "cell_type": "code",
      "execution_count": 130,
      "id": "1ea710ec-871b-431e-9462-c7d0fd87011b",
      "metadata": {
        "id": "1ea710ec-871b-431e-9462-c7d0fd87011b"
      },
      "outputs": [],
      "source": [
        "query_4_4 = f'''SELECT \n",
        "                    schedule,\n",
        "                    employment,\n",
        "                    COUNT(*) AS vacancy_count\n",
        "                FROM \n",
        "                    Vacancies\n",
        "                GROUP BY \n",
        "                    schedule, employment\n",
        "                ORDER BY \n",
        "                    vacancy_count DESC;'''"
      ]
    },
    {
      "cell_type": "code",
      "execution_count": 131,
      "id": "lGUVqavdo4JQ",
      "metadata": {
        "id": "lGUVqavdo4JQ"
      },
      "outputs": [
        {
          "name": "stderr",
          "output_type": "stream",
          "text": [
            "C:\\Users\\vani003\\AppData\\Local\\Temp\\ipykernel_8652\\3904735251.py:1: UserWarning: pandas only supports SQLAlchemy connectable (engine/connection) or database string URI or sqlite3 DBAPI2 connection. Other DBAPI2 objects are not tested. Please consider using SQLAlchemy.\n",
            "  df = pd.read_sql_query(query_4_4, connection)\n"
          ]
        },
        {
          "name": "stdout",
          "output_type": "stream",
          "text": [
            "            schedule           employment  vacancy_count\n",
            "0        Полный день     Полная занятость          35367\n",
            "1   Удаленная работа     Полная занятость           7802\n",
            "2      Гибкий график     Полная занятость           1593\n",
            "3   Удаленная работа  Частичная занятость           1312\n",
            "4     Сменный график     Полная занятость            940\n",
            "5        Полный день           Стажировка            569\n",
            "6     Вахтовый метод     Полная занятость            367\n",
            "7        Полный день  Частичная занятость            347\n",
            "8      Гибкий график  Частичная занятость            312\n",
            "9        Полный день     Проектная работа            141\n",
            "10  Удаленная работа     Проектная работа            133\n",
            "11     Гибкий график           Стажировка            116\n",
            "12    Сменный график  Частичная занятость            101\n",
            "13  Удаленная работа           Стажировка             64\n",
            "14     Гибкий график     Проектная работа             18\n",
            "15    Сменный график           Стажировка             12\n",
            "16    Вахтовый метод     Проектная работа              2\n",
            "17    Сменный график     Проектная работа              1\n"
          ]
        }
      ],
      "source": [
        "df = pd.read_sql_query(query_4_4, connection)\n",
        "print(df)"
      ]
    },
    {
      "cell_type": "markdown",
      "id": "0136ffee-0ead-4a6b-b608-61d1c753a438",
      "metadata": {
        "id": "0136ffee-0ead-4a6b-b608-61d1c753a438"
      },
      "source": [
        "5. Напишите запрос, выводящий значения поля Требуемый опыт работы (experience) в порядке возрастания количества вакансий, в которых указан данный вариант опыта. "
      ]
    },
    {
      "cell_type": "code",
      "execution_count": 132,
      "id": "5b3a8e79-f7ab-4008-b767-12aea3a205ea",
      "metadata": {
        "id": "5b3a8e79-f7ab-4008-b767-12aea3a205ea"
      },
      "outputs": [],
      "source": [
        "query_4_5 = f'''SELECT \n",
        "                    experience,\n",
        "                    count(*) AS vacancy_count\n",
        "                FROM \n",
        "                    Vacancies\n",
        "                GROUP BY \n",
        "                    experience\n",
        "                ORDER BY \n",
        "                    vacancy_count ASC;'''"
      ]
    },
    {
      "cell_type": "code",
      "execution_count": 133,
      "id": "3Is64Y-hpDpq",
      "metadata": {
        "id": "3Is64Y-hpDpq"
      },
      "outputs": [
        {
          "name": "stdout",
          "output_type": "stream",
          "text": [
            "           experience  vacancy_count\n",
            "0         Более 6 лет           1337\n",
            "1           Нет опыта           7197\n",
            "2       От 3 до 6 лет          14511\n",
            "3  От 1 года до 3 лет          26152\n"
          ]
        },
        {
          "name": "stderr",
          "output_type": "stream",
          "text": [
            "C:\\Users\\vani003\\AppData\\Local\\Temp\\ipykernel_8652\\2220680361.py:1: UserWarning: pandas only supports SQLAlchemy connectable (engine/connection) or database string URI or sqlite3 DBAPI2 connection. Other DBAPI2 objects are not tested. Please consider using SQLAlchemy.\n",
            "  df = pd.read_sql_query(query_4_5, connection)\n"
          ]
        }
      ],
      "source": [
        "df = pd.read_sql_query(query_4_5, connection)\n",
        "print(df)"
      ]
    },
    {
      "cell_type": "markdown",
      "id": "oq2b7n1QpIka",
      "metadata": {
        "id": "oq2b7n1QpIka"
      },
      "source": [
        "***"
      ]
    },
    {
      "cell_type": "markdown",
      "id": "5f3d3ea9",
      "metadata": {},
      "source": [
        "База данных, представляется достаточно интересной и отражает текущие тенденции на рынке труда. Во-первых, фиксируется концентрация вакансий в пяти крупнейших агломерациях, что указывает на то, что крупные города остаются центрами карьерных возможностей. Это может свидетельствовать о развитии локализованной Ultra-экономики крупных агломераций и востребованности труда в этих регионах, в то время как вакансии в менее населенных местах, вероятно, становятся менее привлекательными.Отсутствие указания границ ожидаемой заработной платы у более половины респондентов может говорить о неопределенности на рынке, а также о недостаточном уровне информированности кандидатов относительно ценности своего труда. Это также может быть связано с тем, что многие из них только начинают свой карьерный путь и не имеют четкого представления о рыночных ставках или не уверены в своих навыках и опыте.Необходимо отметить, что средние значения заработной платы, которые различаются незначительно, могут указывать на уровень однородности вакансий по оплате труда, что может быть как положительным, так и отрицательным фактором. Это может свидетельствовать о недостаточной конкуренции среди работодателей, которые предлагают схожие условия труда, или о том, что профессии, представленные на платформе, имеют более или менее стандартные уровни вознаграждения.\n",
        "Удаленная работа, ставшая новой нормой и популярностью среди кандидатов, отражает изменение подходов к трудовой деятельности, особенно в контексте постпандемической реальности. Это может быть как плюсом — расширяя возможности для кандидатов, так и минусом — затрудняя работодателям поиск подходящих offline - специалистов вне крупных агломераций.\n",
        "Наконец, использование платформы HeadHunter преимущественно кандидатами с небольшим опытом работы может говорить о том, что ресурс ориентирован на начальные позиции, что также может сказываться на общем уровне предлагаемых зарплат и спецификации вакансий."
      ]
    },
    {
      "cell_type": "markdown",
      "id": "7ea20ab6-04a7-40a0-adec-443a0e5a42c3",
      "metadata": {
        "id": "7ea20ab6-04a7-40a0-adec-443a0e5a42c3"
      },
      "source": [
        "# Юнит 5. Анализ работодателей"
      ]
    },
    {
      "cell_type": "markdown",
      "id": "968aed80-74ef-4ffb-b5bf-c65b84e9caea",
      "metadata": {
        "id": "968aed80-74ef-4ffb-b5bf-c65b84e9caea"
      },
      "source": [
        "1. Напишите запрос, который позволит узнать, какие работодатели находятся на первом и пятом месте по количеству вакансий."
      ]
    },
    {
      "cell_type": "code",
      "execution_count": 134,
      "id": "f2d62796-d400-4ec1-a675-88112739a50e",
      "metadata": {
        "id": "f2d62796-d400-4ec1-a675-88112739a50e"
      },
      "outputs": [],
      "source": [
        "#Создаем вспомогательную таблицу RankedEmployers в которую помещаем информацию о работодателях и количестве вакансий и далее основной запрос\n",
        "query_5_1 = f'''WITH RankedEmployers AS (\n",
        "                SELECT \n",
        "                    e.name AS employer_name, \n",
        "                    COUNT(v.employer_id) AS vacancy_count\n",
        "                FROM \n",
        "                    Employers e\n",
        "                JOIN \n",
        "                    Vacancies v ON e.id = v.employer_id\n",
        "                GROUP BY \n",
        "                    e.name\n",
        "                ORDER BY \n",
        "                    vacancy_count DESC\n",
        "                LIMIT 5\n",
        "            )\n",
        "\n",
        "                SELECT \n",
        "                    employer_name, \n",
        "                    vacancy_count\n",
        "                FROM \n",
        "                    RankedEmployers\n",
        "                ORDER BY \n",
        "                    vacancy_count DESC;'''"
      ]
    },
    {
      "cell_type": "code",
      "execution_count": 135,
      "id": "64tOMkAxqkQk",
      "metadata": {
        "id": "64tOMkAxqkQk"
      },
      "outputs": [
        {
          "name": "stdout",
          "output_type": "stream",
          "text": [
            "   employer_name  vacancy_count\n",
            "0         Яндекс           1933\n",
            "1     Ростелеком            491\n",
            "2       Тинькофф            444\n",
            "3           СБЕР            428\n",
            "4  Газпром нефть            331\n"
          ]
        },
        {
          "name": "stderr",
          "output_type": "stream",
          "text": [
            "C:\\Users\\vani003\\AppData\\Local\\Temp\\ipykernel_8652\\303496794.py:1: UserWarning: pandas only supports SQLAlchemy connectable (engine/connection) or database string URI or sqlite3 DBAPI2 connection. Other DBAPI2 objects are not tested. Please consider using SQLAlchemy.\n",
            "  df = pd.read_sql_query(query_5_1, connection)\n"
          ]
        }
      ],
      "source": [
        "df = pd.read_sql_query(query_5_1, connection)\n",
        "print(df)"
      ]
    },
    {
      "cell_type": "markdown",
      "id": "68377cfc-b378-43dc-ab7d-1195abf2c515",
      "metadata": {
        "id": "68377cfc-b378-43dc-ab7d-1195abf2c515"
      },
      "source": [
        "2. Напишите запрос, который для каждого региона выведет количество работодателей и вакансий в нём.\n",
        "Среди регионов, в которых нет вакансий, найдите тот, в котором наибольшее количество работодателей.\n"
      ]
    },
    {
      "cell_type": "code",
      "execution_count": 136,
      "id": "dd7df27a-e3e8-412e-a21a-5d389b71e891",
      "metadata": {
        "id": "dd7df27a-e3e8-412e-a21a-5d389b71e891"
      },
      "outputs": [],
      "source": [
        "#Создаем таблицу RegionStats в которую помещаем статистику по регионам и далее основной запрос\n",
        "query_5_2 = f'''WITH RegionStats AS (\n",
        "    SELECT \n",
        "        a.id AS area_id,\n",
        "        a.name AS area_name,\n",
        "        COUNT(DISTINCT e.id) AS employer_count,\n",
        "        COUNT(v.id) AS vacancy_count\n",
        "    FROM \n",
        "        Areas a\n",
        "    LEFT JOIN \n",
        "        Employers e ON a.id = e.area\n",
        "    LEFT JOIN \n",
        "        Vacancies v ON a.id = v.area_id\n",
        "    GROUP BY \n",
        "        a.id, a.name\n",
        "    )\n",
        "\n",
        "    SELECT \n",
        "        area_id, \n",
        "        area_name,\n",
        "        employer_count, \n",
        "        vacancy_count\n",
        "    FROM \n",
        "        RegionStats\n",
        "    WHERE \n",
        "        vacancy_count = 0\n",
        "    ORDER BY \n",
        "        employer_count DESC\n",
        "    LIMIT 5;\n",
        "    '''"
      ]
    },
    {
      "cell_type": "code",
      "execution_count": 137,
      "id": "x1ikWbydrbf6",
      "metadata": {
        "id": "x1ikWbydrbf6"
      },
      "outputs": [
        {
          "name": "stderr",
          "output_type": "stream",
          "text": [
            "C:\\Users\\vani003\\AppData\\Local\\Temp\\ipykernel_8652\\2309033045.py:1: UserWarning: pandas only supports SQLAlchemy connectable (engine/connection) or database string URI or sqlite3 DBAPI2 connection. Other DBAPI2 objects are not tested. Please consider using SQLAlchemy.\n",
            "  df = pd.read_sql_query(query_5_2, connection)\n"
          ]
        },
        {
          "name": "stdout",
          "output_type": "stream",
          "text": [
            "   area_id           area_name  employer_count  vacancy_count\n",
            "0      113              Россия             410              0\n",
            "1       40           Казахстан             207              0\n",
            "2     2019  Московская область              75              0\n",
            "3     1438  Краснодарский край              19              0\n",
            "4       16            Беларусь              18              0\n"
          ]
        }
      ],
      "source": [
        "df = pd.read_sql_query(query_5_2, connection)\n",
        "print(df)"
      ]
    },
    {
      "cell_type": "markdown",
      "id": "f2fe0acb-ab1a-4e15-9326-2560e22d73c1",
      "metadata": {
        "id": "f2fe0acb-ab1a-4e15-9326-2560e22d73c1"
      },
      "source": [
        "3. Для каждого работодателя посчитайте количество регионов, в которых он публикует свои вакансии. Отсортируйте результат по убыванию количества.\n"
      ]
    },
    {
      "cell_type": "code",
      "execution_count": 138,
      "id": "6271f8ad-bd2e-4196-ae4a-5b39c4c1010e",
      "metadata": {
        "id": "6271f8ad-bd2e-4196-ae4a-5b39c4c1010e"
      },
      "outputs": [],
      "source": [
        "query_5_3 = f'''SELECT \n",
        "                    e.id AS employer_id,\n",
        "                    COUNT(DISTINCT v.area_id) AS unique_region_count\n",
        "                FROM \n",
        "                    Employers e\n",
        "                LEFT JOIN \n",
        "                    Vacancies v ON e.id = v.employer_id\n",
        "                GROUP BY \n",
        "                    e.id\n",
        "                ORDER BY \n",
        "                    unique_region_count DESC;'''"
      ]
    },
    {
      "cell_type": "code",
      "execution_count": 139,
      "id": "1EIvX3HasH4F",
      "metadata": {
        "id": "1EIvX3HasH4F"
      },
      "outputs": [
        {
          "name": "stderr",
          "output_type": "stream",
          "text": [
            "C:\\Users\\vani003\\AppData\\Local\\Temp\\ipykernel_8652\\3405761657.py:1: UserWarning: pandas only supports SQLAlchemy connectable (engine/connection) or database string URI or sqlite3 DBAPI2 connection. Other DBAPI2 objects are not tested. Please consider using SQLAlchemy.\n",
            "  df = pd.read_sql_query(query_5_3, connection)\n"
          ]
        },
        {
          "name": "stdout",
          "output_type": "stream",
          "text": [
            "       employer_id  unique_region_count\n",
            "0             1740                  181\n",
            "1             2748                  152\n",
            "2          5724811                  116\n",
            "3          5130287                   88\n",
            "4          3682876                   71\n",
            "...            ...                  ...\n",
            "23496      5287515                    0\n",
            "23497      2839354                    0\n",
            "23498      5774578                    0\n",
            "23499      5775069                    0\n",
            "23500           15                    0\n",
            "\n",
            "[23501 rows x 2 columns]\n"
          ]
        }
      ],
      "source": [
        "df = pd.read_sql_query(query_5_3, connection)\n",
        "print(df)"
      ]
    },
    {
      "cell_type": "code",
      "execution_count": 140,
      "id": "f44a8fbd",
      "metadata": {},
      "outputs": [
        {
          "name": "stderr",
          "output_type": "stream",
          "text": [
            "C:\\Users\\vani003\\AppData\\Local\\Temp\\ipykernel_8652\\1841274932.py:4: UserWarning: pandas only supports SQLAlchemy connectable (engine/connection) or database string URI or sqlite3 DBAPI2 connection. Other DBAPI2 objects are not tested. Please consider using SQLAlchemy.\n",
            "  data = pd.read_sql_query(query_5_3, connection)\n"
          ]
        },
        {
          "data": {
            "image/png": "[encoded data removed]",
            "text/plain": [
              "<Figure size 1000x600 with 1 Axes>"
            ]
          },
          "metadata": {},
          "output_type": "display_data"
        }
      ],
      "source": [
        "import matplotlib.pyplot as plt\n",
        "import pandas as pd\n",
        "\n",
        "data = pd.read_sql_query(query_5_3, connection)\n",
        "\n",
        "unique_counts = data['unique_region_count'].value_counts()\n",
        "\n",
        "# Данные для визуализации\n",
        "labels = unique_counts.index\n",
        "counts = unique_counts.values\n",
        "\n",
        "# Создание столбчатой диаграммы\n",
        "plt.figure(figsize=(10, 6))\n",
        "plt.bar(labels, counts, color='skyblue')\n",
        "plt.xlabel('Охват регионов одним работодателем')\n",
        "plt.ylabel('Количество наблюдений')\n",
        "plt.title('Распределение количества наблюдений функции unique_region_count')\n",
        "plt.xticks(rotation=45)\n",
        "plt.tight_layout()  # Ограничение подписей\n",
        "\n",
        "# Настройка пределов по оси X\n",
        "plt.xlim(0, 25)  # Левая и правая граница по оси X\n",
        "\n",
        "plt.xticks(rotation=45)\n",
        "plt.tight_layout()  # Ограничение подписей\n",
        "# Отображение графика\n",
        "plt.show()"
      ]
    },
    {
      "cell_type": "markdown",
      "id": "eab2206d-d95b-468b-8e5f-34381abf0ce7",
      "metadata": {
        "id": "eab2206d-d95b-468b-8e5f-34381abf0ce7"
      },
      "source": [
        "4. Напишите запрос для подсчёта количества работодателей, у которых не указана сфера деятельности. "
      ]
    },
    {
      "cell_type": "code",
      "execution_count": 141,
      "id": "80defb23-bfb1-4a18-8be6-bf36aa7165d5",
      "metadata": {
        "id": "80defb23-bfb1-4a18-8be6-bf36aa7165d5"
      },
      "outputs": [],
      "source": [
        "query_5_4 = f'''SELECT \n",
        "                    e.id AS employer_id\n",
        "                FROM \n",
        "                    Employers e\n",
        "                LEFT JOIN \n",
        "                    Employers_Industries ei ON e.id = ei.employer_id\n",
        "                WHERE \n",
        "                    ei.industry_id IS NULL\n",
        "                ORDER BY \n",
        "                    e.id;'''"
      ]
    },
    {
      "cell_type": "code",
      "execution_count": 142,
      "id": "Dp_yCx6ysQSu",
      "metadata": {
        "id": "Dp_yCx6ysQSu"
      },
      "outputs": [
        {
          "name": "stdout",
          "output_type": "stream",
          "text": [
            "      employer_id\n",
            "0             960\n",
            "1            1304\n",
            "2            1811\n",
            "3            2053\n",
            "4            3204\n",
            "...           ...\n",
            "8414      8903436\n",
            "8415      8903831\n",
            "8416      8904282\n",
            "8417      8905803\n",
            "8418      8906189\n",
            "\n",
            "[8419 rows x 1 columns]\n"
          ]
        },
        {
          "name": "stderr",
          "output_type": "stream",
          "text": [
            "C:\\Users\\vani003\\AppData\\Local\\Temp\\ipykernel_8652\\2937470563.py:1: UserWarning: pandas only supports SQLAlchemy connectable (engine/connection) or database string URI or sqlite3 DBAPI2 connection. Other DBAPI2 objects are not tested. Please consider using SQLAlchemy.\n",
            "  df = pd.read_sql_query(query_5_4, connection)\n"
          ]
        }
      ],
      "source": [
        "df = pd.read_sql_query(query_5_4, connection)\n",
        "print(df)"
      ]
    },
    {
      "cell_type": "markdown",
      "id": "0112af31-f6b0-4e3b-82ab-71296e752e5e",
      "metadata": {
        "id": "0112af31-f6b0-4e3b-82ab-71296e752e5e"
      },
      "source": [
        "5. Напишите запрос, чтобы узнать название компании, находящейся на третьем месте в алфавитном списке (по названию) компаний, у которых указано четыре сферы деятельности. "
      ]
    },
    {
      "cell_type": "code",
      "execution_count": 143,
      "id": "973b0cfc-a972-470a-8b4a-68744ef220c4",
      "metadata": {
        "id": "973b0cfc-a972-470a-8b4a-68744ef220c4"
      },
      "outputs": [],
      "source": [
        "query_5_5 = f'''SELECT \n",
        "                    e.name\n",
        "                FROM \n",
        "                    Employers e\n",
        "                JOIN \n",
        "                    Employers_Industries ei ON e.id = ei.employer_id\n",
        "                GROUP BY \n",
        "                    e.id, e.name\n",
        "                HAVING \n",
        "                    COUNT(ei.industry_id) = 4\n",
        "                ORDER BY \n",
        "                    e.name ASC;'''"
      ]
    },
    {
      "cell_type": "code",
      "execution_count": 144,
      "id": "xsPtpp8EsaED",
      "metadata": {
        "id": "xsPtpp8EsaED"
      },
      "outputs": [
        {
          "name": "stdout",
          "output_type": "stream",
          "text": [
            "                 name\n",
            "0        101 Интернет\n",
            "1            21vek.by\n",
            "2                2ГИС\n",
            "3                  2К\n",
            "4         4 пикселя +\n",
            "...               ...\n",
            "1133            ЮРИОН\n",
            "1134  ЮТИП Технологии\n",
            "1135           ЯКласс\n",
            "1136            ЯрНео\n",
            "1137    Яшин&Партнёры\n",
            "\n",
            "[1138 rows x 1 columns]\n"
          ]
        },
        {
          "name": "stderr",
          "output_type": "stream",
          "text": [
            "C:\\Users\\vani003\\AppData\\Local\\Temp\\ipykernel_8652\\3681462011.py:1: UserWarning: pandas only supports SQLAlchemy connectable (engine/connection) or database string URI or sqlite3 DBAPI2 connection. Other DBAPI2 objects are not tested. Please consider using SQLAlchemy.\n",
            "  df = pd.read_sql_query(query_5_5, connection)\n"
          ]
        }
      ],
      "source": [
        "df = pd.read_sql_query(query_5_5, connection)\n",
        "print(df)"
      ]
    },
    {
      "cell_type": "markdown",
      "id": "3bfcfdaf-755d-4d2b-8ed8-326201dc07ab",
      "metadata": {
        "id": "3bfcfdaf-755d-4d2b-8ed8-326201dc07ab"
      },
      "source": [
        "6. С помощью запроса выясните, у какого количества работодателей в качестве сферы деятельности указана Разработка программного обеспечения.\n"
      ]
    },
    {
      "cell_type": "code",
      "execution_count": 145,
      "id": "ad3f270f-2991-47eb-929b-e8f88a55b0d1",
      "metadata": {
        "id": "ad3f270f-2991-47eb-929b-e8f88a55b0d1"
      },
      "outputs": [],
      "source": [
        "query_5_6 = f'''SELECT \n",
        "                    COUNT(DISTINCT ei.employer_id) AS unique_employer_count\n",
        "                FROM \n",
        "                    Employers_Industries ei\n",
        "                JOIN \n",
        "                    Industries i ON ei.industry_id = i.id\n",
        "                WHERE \n",
        "                    i.name = 'Разработка программного обеспечения';'''"
      ]
    },
    {
      "cell_type": "code",
      "execution_count": 146,
      "id": "H72qxWM0shPR",
      "metadata": {
        "id": "H72qxWM0shPR"
      },
      "outputs": [
        {
          "name": "stdout",
          "output_type": "stream",
          "text": [
            "   unique_employer_count\n",
            "0                   3553\n"
          ]
        },
        {
          "name": "stderr",
          "output_type": "stream",
          "text": [
            "C:\\Users\\vani003\\AppData\\Local\\Temp\\ipykernel_8652\\1267612721.py:1: UserWarning: pandas only supports SQLAlchemy connectable (engine/connection) or database string URI or sqlite3 DBAPI2 connection. Other DBAPI2 objects are not tested. Please consider using SQLAlchemy.\n",
            "  df = pd.read_sql_query(query_5_6, connection)\n"
          ]
        }
      ],
      "source": [
        "df = pd.read_sql_query(query_5_6, connection)\n",
        "print(df)"
      ]
    },
    {
      "cell_type": "markdown",
      "id": "7b02bb86-0546-40fb-94a4-242f050a5c57",
      "metadata": {
        "id": "7b02bb86-0546-40fb-94a4-242f050a5c57"
      },
      "source": [
        "7. Для компании «Яндекс» выведите список регионов-миллионников, в которых представлены вакансии компании, вместе с количеством вакансий в этих регионах. Также добавьте строку Total с общим количеством вакансий компании. Результат отсортируйте по возрастанию количества.\n",
        "\n",
        "Список городов-милионников надо взять [отсюда](https://ru.wikipedia.org/wiki/%D0%93%D0%BE%D1%80%D0%BE%D0%B4%D0%B0-%D0%BC%D0%B8%D0%BB%D0%BB%D0%B8%D0%BE%D0%BD%D0%B5%D1%80%D1%8B_%D0%A0%D0%BE%D1%81%D1%81%D0%B8%D0%B8). \n",
        "\n",
        "Если возникнут трудности с этим задание посмотрите материалы модуля  PYTHON-17. Как получать данные из веб-источников и API. "
      ]
    },
    {
      "cell_type": "code",
      "execution_count": 147,
      "id": "ZdfrL6gIs1Pn",
      "metadata": {
        "id": "ZdfrL6gIs1Pn"
      },
      "outputs": [
        {
          "data": {
            "text/plain": [
              "'Москва'"
            ]
          },
          "metadata": {},
          "output_type": "display_data"
        },
        {
          "data": {
            "text/plain": [
              "'Санкт-Петербург'"
            ]
          },
          "metadata": {},
          "output_type": "display_data"
        },
        {
          "data": {
            "text/plain": [
              "'Новосибирск'"
            ]
          },
          "metadata": {},
          "output_type": "display_data"
        },
        {
          "data": {
            "text/plain": [
              "'Екатеринбург'"
            ]
          },
          "metadata": {},
          "output_type": "display_data"
        },
        {
          "data": {
            "text/plain": [
              "'Казань'"
            ]
          },
          "metadata": {},
          "output_type": "display_data"
        },
        {
          "data": {
            "text/plain": [
              "'Красноярск'"
            ]
          },
          "metadata": {},
          "output_type": "display_data"
        },
        {
          "data": {
            "text/plain": [
              "'Нижний Новгород'"
            ]
          },
          "metadata": {},
          "output_type": "display_data"
        },
        {
          "data": {
            "text/plain": [
              "'Челябинск'"
            ]
          },
          "metadata": {},
          "output_type": "display_data"
        },
        {
          "data": {
            "text/plain": [
              "'Уфа'"
            ]
          },
          "metadata": {},
          "output_type": "display_data"
        },
        {
          "data": {
            "text/plain": [
              "'Самара'"
            ]
          },
          "metadata": {},
          "output_type": "display_data"
        },
        {
          "data": {
            "text/plain": [
              "'Ростов-на-Дону'"
            ]
          },
          "metadata": {},
          "output_type": "display_data"
        },
        {
          "data": {
            "text/plain": [
              "'Краснодар'"
            ]
          },
          "metadata": {},
          "output_type": "display_data"
        },
        {
          "data": {
            "text/plain": [
              "'Омск'"
            ]
          },
          "metadata": {},
          "output_type": "display_data"
        },
        {
          "data": {
            "text/plain": [
              "'Воронеж'"
            ]
          },
          "metadata": {},
          "output_type": "display_data"
        },
        {
          "data": {
            "text/plain": [
              "'Пермь'"
            ]
          },
          "metadata": {},
          "output_type": "display_data"
        },
        {
          "data": {
            "text/plain": [
              "'Волгоград'"
            ]
          },
          "metadata": {},
          "output_type": "display_data"
        }
      ],
      "source": [
        "import requests\n",
        "from bs4 import BeautifulSoup\n",
        "\n",
        "def get_million_cities(url):\n",
        "    # Отправляем запрос на указанный url\n",
        "    response = requests.get(url)\n",
        "    \n",
        "    # Проверяем успешность запроса\n",
        "    if response.status_code == 200:\n",
        "        # Создаем объект BeautifulSoup из полученного HTML-кода\n",
        "        soup = BeautifulSoup(response.content, 'html.parser')\n",
        "        \n",
        "        # Поиск таблицу с городами-миллионерами\n",
        "        table = soup.find('table') \n",
        "        \n",
        "        cities = []\n",
        "        \n",
        "        if table:\n",
        "            # Проходим по всем строкам таблицы\n",
        "            for row in table.find_all('tr'):\n",
        "                cells = row.find_all('td')\n",
        "                if cells:\n",
        "                    city_name = cells[1].get_text(strip=True)  # Получаем название города из второго столбца\n",
        "                    cities.append(city_name)\n",
        "                    \n",
        "            return cities\n",
        "        else:\n",
        "            return \"Таблица не найдена.\"\n",
        "    else:\n",
        "        return f\"Ошибка при обращении к URL: {response.status_code}\"\n",
        "\n",
        "# Включение функции\n",
        "url = \"https://ru.wikipedia.org/wiki/%D0%93%D0%BE%D1%80%D0%BE%D0%B4%D0%B0-%D0%BC%D0%B8%D0%BB%D0%BB%D0%B8%D0%BE%D0%BD%D0%B5%D1%80%D1%8B_%D0%A0%D0%BE%D1%81%D1%81%D0%B8%D0%B8\"\n",
        "million_cities = get_million_cities(url)\n",
        "\n",
        "# Cписок городов-миллионеров\n",
        "if isinstance(million_cities, list):\n",
        "    for city in million_cities:\n",
        "        display(city)\n",
        "else:\n",
        "    display(million_cities)\n"
      ]
    },
    {
      "cell_type": "code",
      "execution_count": 148,
      "id": "5a0e32a4-e68a-4365-8a39-2fe24c542c36",
      "metadata": {
        "id": "5a0e32a4-e68a-4365-8a39-2fe24c542c36"
      },
      "outputs": [],
      "source": [
        "formatted_cities = \", \".join([f\"'{city}'\" for city in million_cities])  # Преобразован в строку для SQL\n",
        "query_5_7 = f'''WITH filtered_vacancies AS (\n",
        "    SELECT \n",
        "        v.id AS vacancy_id,\n",
        "        v.employer_id,\n",
        "        v.area_id,\n",
        "        e.name AS employer_name,\n",
        "        a.name AS area_name\n",
        "    FROM \n",
        "        Vacancies v\n",
        "    JOIN \n",
        "        Employers e ON v.employer_id = e.id\n",
        "    JOIN \n",
        "        Areas a ON v.area_id = a.id\n",
        "    WHERE \n",
        "        e.name = 'Яндекс'\n",
        "        AND a.name IN ({formatted_cities})  -- Используем форматированную строку\n",
        ")\n",
        "    SELECT \n",
        "        area_name,\n",
        "        COUNT(vacancy_id) AS vacancy_count\n",
        "    FROM \n",
        "        filtered_vacancies\n",
        "    GROUP BY \n",
        "        area_name\n",
        "\n",
        "    UNION ALL\n",
        "\n",
        "    SELECT \n",
        "        'Total' AS area_name,\n",
        "        COUNT(vacancy_id) AS vacancy_count\n",
        "    FROM \n",
        "        filtered_vacancies;'''"
      ]
    },
    {
      "cell_type": "code",
      "execution_count": 149,
      "id": "ttPhiO1rsvPq",
      "metadata": {
        "id": "ttPhiO1rsvPq"
      },
      "outputs": [
        {
          "name": "stdout",
          "output_type": "stream",
          "text": [
            "          area_name  vacancy_count\n",
            "0            Казань             25\n",
            "1   Нижний Новгород             36\n",
            "2      Екатеринбург             39\n",
            "3       Новосибирск             35\n",
            "4        Красноярск             23\n",
            "5              Омск             21\n",
            "6           Воронеж             32\n",
            "7             Пермь             25\n",
            "8               Уфа             26\n",
            "9         Челябинск             22\n",
            "10           Москва             54\n",
            "11  Санкт-Петербург             42\n",
            "12        Волгоград             24\n",
            "13           Самара             26\n",
            "14   Ростов-на-Дону             25\n",
            "15        Краснодар             30\n",
            "16            Total            485\n"
          ]
        },
        {
          "name": "stderr",
          "output_type": "stream",
          "text": [
            "C:\\Users\\vani003\\AppData\\Local\\Temp\\ipykernel_8652\\2442790807.py:1: UserWarning: pandas only supports SQLAlchemy connectable (engine/connection) or database string URI or sqlite3 DBAPI2 connection. Other DBAPI2 objects are not tested. Please consider using SQLAlchemy.\n",
            "  df = pd.read_sql_query(query_5_7, connection)\n"
          ]
        }
      ],
      "source": [
        "df = pd.read_sql_query(query_5_7, connection)\n",
        "print(df)"
      ]
    },
    {
      "cell_type": "markdown",
      "id": "04966e40-3bc3-4dc8-9ba2-e80580ce3abc",
      "metadata": {
        "id": "04966e40-3bc3-4dc8-9ba2-e80580ce3abc"
      },
      "source": [
        "***"
      ]
    },
    {
      "cell_type": "markdown",
      "id": "353e0f1a",
      "metadata": {},
      "source": [
        "Упоминание таких компаний, как Яндекс, Ростелеком, Тинькофф и СБЕР в рамках топ-5 проактивных работодателей, подчеркивает высокую конкурентоспособность и активность IT-сектора и смежных областей в привлечении кадров. Это свидетельствует о том, что данные компании не только создали значительное количество вакансий, но и активно ищут талантливых специалистов, что связано с их амбициозными проектами и инновациями. Интересный момент заключается в том, что среди этих лидеров только Газпромнефть представляет сектор реального производства, что говорит о том, что традиционные отрасли, такие как энергетика, постепенно уступают позиции более динамичному IT-сектору в контексте привлечения кадров. Информация о том, что около 1000 работодателей функционируют в регионах без открытых вакансий, намекает на тенденции поиска талантов, основанного на резюме. Это может свидетельствовать о том, что работодатели более заинтересованы в привлечении специалистов с уникальными навыками, а не только в наличии открытых вакансий. Такой подход, возможно, обусловлен нехваткой квалифицированных кадров в определенных областях, что особенно актуально для регионов, где рынок труда может оказаться менее активным. Другой важный аспект заключается в недостатке информации, о чем говорит отсутствие указанной сферы деятельности у 8419 работодателей. Этот момент подчеркивает как отсутствие прозрачности на рынке труда, так и возможные сложности в поиске подходящих кандидатов. Если компании не указывают свою сферу деятельности, это может быть следствием того, что они занимаются многими проектами или меняют направление своей работы, что создает неясность и затрудняет возможности для соискателей. Кроме того, акцент на многообразии IT-компаний и их предложениях также подтверждает тенденцию к размыванию традиционных границ между разными секторами. "
      ]
    },
    {
      "cell_type": "markdown",
      "id": "b1ef156a-efcb-49ce-bb23-90763e7f35b2",
      "metadata": {
        "id": "b1ef156a-efcb-49ce-bb23-90763e7f35b2",
        "tags": []
      },
      "source": [
        "# Юнит 6. Предметный анализ"
      ]
    },
    {
      "cell_type": "markdown",
      "id": "b9cd50a0-992d-4988-8463-2b2b1c4629b4",
      "metadata": {
        "id": "b9cd50a0-992d-4988-8463-2b2b1c4629b4"
      },
      "source": [
        "1. Сколько вакансий имеет отношение к данным?\n",
        "\n",
        "Считаем, что вакансия имеет отношение к данным, если в её названии содержатся слова 'data' или 'данн'.\n",
        "\n",
        "*Подсказка: Обратите внимание, что названия вакансий могут быть написаны в любом регистре.* \n"
      ]
    },
    {
      "cell_type": "code",
      "execution_count": 150,
      "id": "54ab0e50-c0f1-47cc-a54b-bc5c8bc363f9",
      "metadata": {
        "id": "54ab0e50-c0f1-47cc-a54b-bc5c8bc363f9"
      },
      "outputs": [],
      "source": [
        "query_6_1 = f'''SELECT COUNT(*) AS vacancy_count\n",
        "               FROM Vacancies\n",
        "               WHERE LOWER(name) LIKE '%data%'\n",
        "               OR LOWER(name) LIKE '%данн%';'''"
      ]
    },
    {
      "cell_type": "code",
      "execution_count": 151,
      "id": "9F1meAqsuUjd",
      "metadata": {
        "id": "9F1meAqsuUjd"
      },
      "outputs": [
        {
          "name": "stderr",
          "output_type": "stream",
          "text": [
            "C:\\Users\\vani003\\AppData\\Local\\Temp\\ipykernel_8652\\2816267549.py:1: UserWarning: pandas only supports SQLAlchemy connectable (engine/connection) or database string URI or sqlite3 DBAPI2 connection. Other DBAPI2 objects are not tested. Please consider using SQLAlchemy.\n",
            "  df = pd.read_sql_query(query_6_1, connection)\n"
          ]
        },
        {
          "name": "stdout",
          "output_type": "stream",
          "text": [
            "   vacancy_count\n",
            "0           1771\n"
          ]
        }
      ],
      "source": [
        "df = pd.read_sql_query(query_6_1, connection)\n",
        "print(df)"
      ]
    },
    {
      "cell_type": "markdown",
      "id": "4dea20cb-a36b-474a-a0b9-e08e8e3857a5",
      "metadata": {
        "id": "4dea20cb-a36b-474a-a0b9-e08e8e3857a5"
      },
      "source": [
        "2. Сколько есть подходящих вакансий для начинающего дата-сайентиста? \n",
        "Будем считать вакансиями для дата-сайентистов такие, в названии которых есть хотя бы одно из следующих сочетаний:\n",
        "* 'data scientist'\n",
        "* 'data science'\n",
        "* 'исследователь данных'\n",
        "* 'ML' (здесь не нужно брать вакансии по HTML)\n",
        "* 'machine learning'\n",
        "* 'машинн%обучен%'\n",
        "\n",
        "** В следующих заданиях мы продолжим работать с вакансиями по этому условию.*\n",
        "\n",
        "Считаем вакансиями для специалистов уровня Junior следующие:\n",
        "* в названии есть слово 'junior' *или*\n",
        "* требуемый опыт — Нет опыта *или*\n",
        "* тип трудоустройства — Стажировка.\n",
        " "
      ]
    },
    {
      "cell_type": "code",
      "execution_count": 152,
      "id": "9c61b3c0-bb66-46c9-ae1e-81d3f5752b4a",
      "metadata": {
        "id": "9c61b3c0-bb66-46c9-ae1e-81d3f5752b4a"
      },
      "outputs": [],
      "source": [
        "#Создаем запрос по поиску определенных сочений слов\n",
        "query_6_2 = f'''SELECT COUNT(*) AS vacancy_count\n",
        "                FROM Vacancies\n",
        "                WHERE (\n",
        "                        LOWER(name) LIKE '%data scientist%'\n",
        "                OR LOWER(name) LIKE '%data science%'\n",
        "                OR LOWER(name) LIKE '%исследователь данных%'\n",
        "                OR (LOWER(name) LIKE '%ml%' AND LOWER(name) NOT LIKE '%html%')\n",
        "                OR LOWER(name) LIKE '%machine learning%'\n",
        "                OR LOWER(name) LIKE '%машинн%обучен%'\n",
        "                )\n",
        "                AND (\n",
        "                        LOWER(name) LIKE '%junior%'\n",
        "                OR experience = 'Нет опыта'\n",
        "                OR employment = 'Стажировка'\n",
        "                );'''"
      ]
    },
    {
      "cell_type": "code",
      "execution_count": 153,
      "id": "ZNM-LLYuu1dj",
      "metadata": {
        "id": "ZNM-LLYuu1dj"
      },
      "outputs": [
        {
          "name": "stderr",
          "output_type": "stream",
          "text": [
            "C:\\Users\\vani003\\AppData\\Local\\Temp\\ipykernel_8652\\4185113083.py:1: UserWarning: pandas only supports SQLAlchemy connectable (engine/connection) or database string URI or sqlite3 DBAPI2 connection. Other DBAPI2 objects are not tested. Please consider using SQLAlchemy.\n",
            "  df = pd.read_sql_query(query_6_2, connection)\n"
          ]
        },
        {
          "name": "stdout",
          "output_type": "stream",
          "text": [
            "   vacancy_count\n",
            "0             51\n"
          ]
        }
      ],
      "source": [
        "df = pd.read_sql_query(query_6_2, connection)\n",
        "print(df)"
      ]
    },
    {
      "cell_type": "markdown",
      "id": "eedceb80-c5ca-480e-b27a-278dfb8b4438",
      "metadata": {
        "id": "eedceb80-c5ca-480e-b27a-278dfb8b4438"
      },
      "source": [
        "3. Сколько есть вакансий для DS, в которых в качестве ключевого навыка указан SQL или postgres?\n",
        "\n",
        "** Критерии для отнесения вакансии к DS указаны в предыдущем задании.*"
      ]
    },
    {
      "cell_type": "code",
      "execution_count": 154,
      "id": "69621713-0cc5-4f1b-a1d7-bb144fa6148c",
      "metadata": {
        "id": "69621713-0cc5-4f1b-a1d7-bb144fa6148c"
      },
      "outputs": [],
      "source": [
        "query_6_3 = f'''SELECT COUNT(*) AS vacancy_count\n",
        "                FROM Vacancies\n",
        "                WHERE (\n",
        "                        LOWER(name) LIKE '%data scientist%'\n",
        "                    OR LOWER(name) LIKE '%data science%'\n",
        "                    OR LOWER(name) LIKE '%исследователь данных%'\n",
        "                    OR (LOWER(name) LIKE '%ml%' AND LOWER(name) NOT LIKE '%html%')\n",
        "                    OR LOWER(name) LIKE '%machine learning%'\n",
        "                    OR LOWER(name) LIKE '%машинн%обучен%'\n",
        "                    )\n",
        "                AND (\n",
        "                        (LOWER(key_skills) LIKE '%sql%' OR LOWER(key_skills) LIKE '%postgres%')\n",
        "                    );'''"
      ]
    },
    {
      "cell_type": "code",
      "execution_count": 155,
      "id": "alA8WEAAvGdf",
      "metadata": {
        "id": "alA8WEAAvGdf"
      },
      "outputs": [
        {
          "name": "stderr",
          "output_type": "stream",
          "text": [
            "C:\\Users\\vani003\\AppData\\Local\\Temp\\ipykernel_8652\\92655099.py:1: UserWarning: pandas only supports SQLAlchemy connectable (engine/connection) or database string URI or sqlite3 DBAPI2 connection. Other DBAPI2 objects are not tested. Please consider using SQLAlchemy.\n",
            "  df = pd.read_sql_query(query_6_3, connection)\n"
          ]
        },
        {
          "name": "stdout",
          "output_type": "stream",
          "text": [
            "   vacancy_count\n",
            "0            229\n"
          ]
        }
      ],
      "source": [
        "df = pd.read_sql_query(query_6_3, connection)\n",
        "print(df)"
      ]
    },
    {
      "cell_type": "markdown",
      "id": "1be1e9c6-37cf-4a5f-bfeb-04cab799dc80",
      "metadata": {
        "id": "1be1e9c6-37cf-4a5f-bfeb-04cab799dc80"
      },
      "source": [
        "4. Проверьте, насколько популярен Python в требованиях работодателей к DS.Для этого вычислите количество вакансий, в которых в качестве ключевого навыка указан Python.\n",
        "\n",
        "** Это можно сделать помощью запроса, аналогичного предыдущему.*"
      ]
    },
    {
      "cell_type": "code",
      "execution_count": 156,
      "id": "0036a355-9ccf-4564-8b01-73d8194297e7",
      "metadata": {
        "id": "0036a355-9ccf-4564-8b01-73d8194297e7"
      },
      "outputs": [],
      "source": [
        "query_6_4 = f'''SELECT COUNT(*) AS vacancy_count\n",
        "                FROM Vacancies\n",
        "                WHERE (\n",
        "                        LOWER(name) LIKE '%data scientist%'\n",
        "                    OR LOWER(name) LIKE '%data science%'\n",
        "                    OR LOWER(name) LIKE '%исследователь данных%'\n",
        "                    OR (LOWER(name) LIKE '%ml%' AND LOWER(name) NOT LIKE '%html%')\n",
        "                    OR LOWER(name) LIKE '%machine learning%'\n",
        "                    OR LOWER(name) LIKE '%машинн%обучен%'\n",
        "                    )\n",
        "                AND (\n",
        "                        (LOWER(key_skills) LIKE '%python%')\n",
        "                    );'''"
      ]
    },
    {
      "cell_type": "code",
      "execution_count": 157,
      "id": "1i-5WyucvQ6v",
      "metadata": {
        "id": "1i-5WyucvQ6v"
      },
      "outputs": [
        {
          "name": "stdout",
          "output_type": "stream",
          "text": [
            "   vacancy_count\n",
            "0            357\n"
          ]
        },
        {
          "name": "stderr",
          "output_type": "stream",
          "text": [
            "C:\\Users\\vani003\\AppData\\Local\\Temp\\ipykernel_8652\\58020356.py:1: UserWarning: pandas only supports SQLAlchemy connectable (engine/connection) or database string URI or sqlite3 DBAPI2 connection. Other DBAPI2 objects are not tested. Please consider using SQLAlchemy.\n",
            "  df = pd.read_sql_query(query_6_4, connection)\n"
          ]
        }
      ],
      "source": [
        "df = pd.read_sql_query(query_6_4, connection)\n",
        "print(df)"
      ]
    },
    {
      "cell_type": "markdown",
      "id": "ec3c8db7-fa21-4a41-a994-1af63742a642",
      "metadata": {
        "id": "ec3c8db7-fa21-4a41-a994-1af63742a642"
      },
      "source": [
        "5. Сколько ключевых навыков в среднем указывают в вакансиях для DS?\n",
        "Ответ округлите до двух знаков после точки-разделителя."
      ]
    },
    {
      "cell_type": "code",
      "execution_count": 158,
      "id": "949132bc-d5b6-4611-8218-0b9a504d74f4",
      "metadata": {
        "id": "949132bc-d5b6-4611-8218-0b9a504d74f4"
      },
      "outputs": [],
      "source": [
        "query_6_5 = f'''SELECT \n",
        "                    ROUND(AVG(LENGTH(key_skills) - LENGTH(REPLACE(key_skills, CHR(9), '')) + 1), 2) AS avg_key_skills\n",
        "                FROM \n",
        "                    vacancies v\n",
        "                WHERE \n",
        "                    (v.name ILIKE '%data scientist%'\n",
        "                    OR LOWER(v.name) ILIKE '%data science%'\n",
        "                    OR v.name ILIKE '%исследователь данных%'\n",
        "                    OR (v.name LIKE '%ML%' AND v.name NOT ILIKE '%html%')\n",
        "                    OR v.name ILIKE '%machine learning%'\n",
        "                    OR v.name ILIKE '%машинн%обучен%')\n",
        "                    AND (v.key_skills IS NOT NULL)\n",
        "                ORDER BY \n",
        "                    avg_key_skills DESC;\n",
        "                '''"
      ]
    },
    {
      "cell_type": "code",
      "execution_count": 159,
      "id": "a3V24Tvmviqk",
      "metadata": {
        "id": "a3V24Tvmviqk"
      },
      "outputs": [
        {
          "name": "stderr",
          "output_type": "stream",
          "text": [
            "C:\\Users\\vani003\\AppData\\Local\\Temp\\ipykernel_8652\\3144451476.py:1: UserWarning: pandas only supports SQLAlchemy connectable (engine/connection) or database string URI or sqlite3 DBAPI2 connection. Other DBAPI2 objects are not tested. Please consider using SQLAlchemy.\n",
            "  df = pd.read_sql_query(query_6_5, connection)\n"
          ]
        },
        {
          "name": "stdout",
          "output_type": "stream",
          "text": [
            "   avg_key_skills\n",
            "0            6.41\n"
          ]
        }
      ],
      "source": [
        "df = pd.read_sql_query(query_6_5, connection)\n",
        "print(df) "
      ]
    },
    {
      "cell_type": "markdown",
      "id": "1041c17a-ca8f-4543-a0ca-32778914fb00",
      "metadata": {
        "id": "1041c17a-ca8f-4543-a0ca-32778914fb00"
      },
      "source": [
        "6. Напишите запрос, позволяющий вычислить, какую зарплату для DS в **среднем** указывают для каждого типа требуемого опыта (уникальное значение из поля *experience*). \n",
        "\n",
        "При решении задачи примите во внимание следующее:\n",
        "1. Рассматриваем только вакансии, у которых заполнено хотя бы одно из двух полей с зарплатой.\n",
        "2. Если заполнены оба поля с зарплатой, то считаем зарплату по каждой вакансии как сумму двух полей, делённую на 2. Если заполнено только одно из полей, то его и считаем зарплатой по вакансии.\n",
        "3. Если в расчётах участвует null, в результате он тоже даст null (посмотрите, что возвращает запрос select 1 + null). Чтобы избежать этой ситуацию, мы воспользуемся функцией [coalesce](https://postgrespro.ru/docs/postgresql/9.5/functions-conditional#functions-coalesce-nvl-ifnull), которая заменит null на значение, которое мы передадим. Например, посмотрите, что возвращает запрос `select 1 + coalesce(null, 0)`\n",
        "\n",
        "Выясните, на какую зарплату в среднем может рассчитывать дата-сайентист с опытом работы от 3 до 6 лет. Результат округлите до целого числа. "
      ]
    },
    {
      "cell_type": "code",
      "execution_count": 160,
      "id": "6a743d39-5204-48d3-8271-b9f88e68d40e",
      "metadata": {
        "id": "6a743d39-5204-48d3-8271-b9f88e68d40e"
      },
      "outputs": [],
      "source": [
        "query_6_6 = f'''SELECT \n",
        "                    experience,\n",
        "                    ROUND(AVG(avg_salary)) AS avg_salary\n",
        "                FROM (\n",
        "                    SELECT \n",
        "                        experience,\n",
        "                        (COALESCE(salary_from, 0) + COALESCE(salary_to, 0)) / \n",
        "                        CASE \n",
        "                            WHEN salary_from IS NOT NULL AND salary_to IS NOT NULL THEN 2\n",
        "                            ELSE 1\n",
        "                        END AS avg_salary\n",
        "                    FROM \n",
        "                        vacancies v  -- Убедитесь, что таблица называется \"vacancies\"\n",
        "                    WHERE \n",
        "                        (v.name ILIKE '%data scientist%'\n",
        "                        OR LOWER(v.name) ILIKE '%data science%'\n",
        "                        OR v.name ILIKE '%исследователь данных%'\n",
        "                        OR (v.name LIKE '%ML%' AND v.name NOT ILIKE '%html%')\n",
        "                        OR v.name ILIKE '%machine learning%'\n",
        "                        OR v.name ILIKE '%машинн%обучен%')\n",
        "                    AND (v.key_skills IS NOT NULL)\n",
        "                    AND (salary_from IS NOT NULL OR salary_to IS NOT NULL)\n",
        "                    AND experience IN ('Более 6 лет', 'Нет опыта', 'От 3 до 6 лет', 'От 1 года до 3 лет')\n",
        "                ) AS subquery\n",
        "                GROUP BY \n",
        "                    experience\n",
        "                ORDER BY \n",
        "                    experience;\n",
        "                '''"
      ]
    },
    {
      "cell_type": "code",
      "execution_count": 161,
      "id": "aRIJ0mZEwU1_",
      "metadata": {
        "id": "aRIJ0mZEwU1_"
      },
      "outputs": [
        {
          "name": "stdout",
          "output_type": "stream",
          "text": [
            "           experience  avg_salary\n",
            "0           Нет опыта     74643.0\n",
            "1  От 1 года до 3 лет    146704.0\n",
            "2       От 3 до 6 лет    243115.0\n"
          ]
        },
        {
          "name": "stderr",
          "output_type": "stream",
          "text": [
            "C:\\Users\\vani003\\AppData\\Local\\Temp\\ipykernel_8652\\3003024903.py:1: UserWarning: pandas only supports SQLAlchemy connectable (engine/connection) or database string URI or sqlite3 DBAPI2 connection. Other DBAPI2 objects are not tested. Please consider using SQLAlchemy.\n",
            "  df = pd.read_sql_query(query_6_6, connection)\n"
          ]
        }
      ],
      "source": [
        "df = pd.read_sql_query(query_6_6, connection)\n",
        "print(df) "
      ]
    },
    {
      "cell_type": "markdown",
      "id": "6a7892b4-4113-4746-adce-18aa2844f18e",
      "metadata": {
        "id": "6a7892b4-4113-4746-adce-18aa2844f18e"
      },
      "source": [
        "***"
      ]
    },
    {
      "cell_type": "markdown",
      "id": "a75cb74c",
      "metadata": {},
      "source": [
        "Исходя из начального количество вакансий, относящихся к данным, равного 1771, становится ясно, что рынок предлагает значительное количество предложений, что демонстрирует актуальность и востребованность данной специальности. При анализе вакансий для начинающих дата-сайентистов, количество таких вакансий составило всего 51, что указывает на наличие ограниченных возможностей для тех, кто только начинает свою карьеру в этой области. Вакансии, в которых в качестве ключевого навыка указан SQL или Postgres, составляют 229. Это подчеркивает важность этих технологий для работодателей, ориентирующихся на дата-сайентистов. Аналогичным образом, количество вакансий с указанием Python как ключевого навыка составило 357, что еще раз подтверждает популярность и, возможно, универсальность Python в различных данных и аналитических проектах. Кроме того, среднее количество ключевых навыков, указанных в вакансиях для дата-сайентистов, составляет 6.41. Это говорит о том, что работодатели ожидают от соискателей обладать разнообразными навыками, что может включать как технические знания, так и софт-скиллы. Что касаемо зарплатных ожиданий, выяснено, что дата-сайентист с опытом от 3 до 6 лет может рассчитывать на среднюю зарплату в 243115, что  позволяет оценить потенциальные финансовые результаты карьеры в данной области и может служить ориентиром для соискателей."
      ]
    },
    {
      "cell_type": "markdown",
      "id": "c0ED6fh7wiBT",
      "metadata": {
        "id": "c0ED6fh7wiBT"
      },
      "source": [
        "# Общий вывод по проекту"
      ]
    },
    {
      "cell_type": "markdown",
      "id": "24c805eb",
      "metadata": {},
      "source": [
        "Подводя итоги проведенного анализа вакансий в области data scientist специальностей, можно заметить, что представленные данные предоставляют ценную информацию о текущем состоянии рынка труда, потребностях работодателей и возможностях для соискателей, особенно для начинающих специалистов. Констатация количества вакансий, относящихся к данной области, размера востребованных навыков и ожидаемых зарплат помогает лучше понять, как подготовиться к карьере в этой динамично развивающейся сфере.\n",
        "\n",
        "Исходя из полученных результатов, можно заключить, что несмотря на относительно небольшое количество вакансий для начинающих дата-сайентистов, широкий спектр требуемых навыков и соответствующее вознаграждение по мере роста опыта подчеркивают важность подготовки и усовершенствования знаний. Важно также отметить значимость таких технологий, как SQL и Python, которые являются ключевыми для успешной карьеры в этой области.\n",
        "\n",
        "Для дальнейшего развития исследования можно рассмотреть несколько направлений. Во-первых, стоит углубиться в анализ конкретных требований к навыкам, чтобы составить более детальную картину, какие конкретно знания востребованы в разных компаниях и отраслях. Можно также провести опрос среди работодателей, чтобы выяснить, какие дополнительные качества они ищут в кандидатах, помимо чисто технических навыков.\n",
        "\n",
        "Кроме того, будет полезно провести анализ изменений в требованиях к вакансиям с течением времени, например, исследовать данные за несколько лет, чтобы определить, какие навыки становятся более или менее актуальными. Ниже представлен запрос, демонстрирующий наиболее востребованные ключевые навыки в зависимости от требований к опыту. Результаты показывает довольно однородную картину, однако стоит отметить, что в рамках выборки, включающей около 400 вакансий, требования в целом имеют значительное разнообразие, поскольку максимальное значение одного из ключевых навыков превышает 100.  Можно включить в исследование и сравнительный анализ зарплат в разных географических регионах, чтобы выяснить, как географическое положение влияет на финансовые перспективы дата-сайентистов. Наконец, стоит обратить внимание на обучение и развитие карьерного роста, исследуя, какие курсы и программы подготовки существуют и насколько они соответствуют требованиям рынка. Все эти направления способны углубить понимание текущих и будущих трендов в сфере данных, а также помочь соискателям лучше ориентироваться в своем профессиональном развитии."
      ]
    },
    {
      "cell_type": "code",
      "execution_count": 162,
      "id": "9dede485",
      "metadata": {},
      "outputs": [],
      "source": [
        "query_6_7 = f'''WITH skill_counts AS (\n",
        "    SELECT \n",
        "        experience, \n",
        "        UNNEST(STRING_TO_ARRAY(key_skills, CHR(9))) AS skill\n",
        "    FROM \n",
        "        vacancies\n",
        "    WHERE \n",
        "        (name ILIKE '%data scientist%'\n",
        "        OR LOWER(name) ILIKE '%data science%'\n",
        "        OR name ILIKE '%исследователь данных%'\n",
        "        OR (name LIKE '%ML%' AND name NOT ILIKE '%html%')\n",
        "        OR name ILIKE '%machine learning%'\n",
        "        OR name ILIKE '%машинн%обучен%')\n",
        "        AND (key_skills IS NOT NULL)\n",
        "),\n",
        "skill_summary AS (\n",
        "    SELECT \n",
        "        experience, \n",
        "        skill, \n",
        "        COUNT(*) AS skill_count\n",
        "    FROM \n",
        "        skill_counts\n",
        "    GROUP BY \n",
        "        experience, skill\n",
        "),\n",
        "ranked_skills AS (\n",
        "    SELECT \n",
        "        experience, \n",
        "        skill, \n",
        "        skill_count, \n",
        "        ROW_NUMBER() OVER (PARTITION BY experience ORDER BY skill_count DESC) AS rank\n",
        "    FROM \n",
        "        skill_summary\n",
        ")\n",
        "SELECT \n",
        "    experience, \n",
        "    skill, \n",
        "    skill_count\n",
        "FROM \n",
        "    ranked_skills\n",
        "WHERE \n",
        "    rank <= 5\n",
        "ORDER BY \n",
        "    CASE \n",
        "        WHEN experience = 'Нет опыта' THEN 1\n",
        "        WHEN experience = 'От 1 года до 3 лет' THEN 2\n",
        "        WHEN experience = 'От 3 до 6 лет' THEN 3\n",
        "        WHEN experience = 'Более 6 лет' THEN 4\n",
        "        ELSE 5 -- Для любых других значений, если они присутствуют\n",
        "    END,\n",
        "    skill_count DESC;\n",
        "            '''"
      ]
    },
    {
      "cell_type": "code",
      "execution_count": 163,
      "id": "bbab8ef7",
      "metadata": {},
      "outputs": [
        {
          "name": "stderr",
          "output_type": "stream",
          "text": [
            "C:\\Users\\vani003\\AppData\\Local\\Temp\\ipykernel_8652\\3251607571.py:1: UserWarning: pandas only supports SQLAlchemy connectable (engine/connection) or database string URI or sqlite3 DBAPI2 connection. Other DBAPI2 objects are not tested. Please consider using SQLAlchemy.\n",
            "  df = pd.read_sql_query(query_6_7, connection)\n"
          ]
        },
        {
          "name": "stdout",
          "output_type": "stream",
          "text": [
            "            experience                         skill  skill_count\n",
            "0            Нет опыта                        Python           23\n",
            "1            Нет опыта              Machine Learning           11\n",
            "2            Нет опыта                           SQL           10\n",
            "3            Нет опыта                            ML            7\n",
            "4            Нет опыта                  Data Science            6\n",
            "5   От 1 года до 3 лет                        Python          156\n",
            "6   От 1 года до 3 лет                           SQL          124\n",
            "7   От 1 года до 3 лет              Machine Learning           43\n",
            "8   От 1 года до 3 лет     Математическая статистика           42\n",
            "9   От 1 года до 3 лет  Математическое моделирование           32\n",
            "10       От 3 до 6 лет                        Python          149\n",
            "11       От 3 до 6 лет                           SQL           55\n",
            "12       От 3 до 6 лет              Machine Learning           41\n",
            "13       От 3 до 6 лет                  Data Science           27\n",
            "14       От 3 до 6 лет                           Git           26\n",
            "15         Более 6 лет                        Python           20\n",
            "16         Более 6 лет              Machine Learning           19\n",
            "17         Более 6 лет                 Data Analysis           17\n",
            "18         Более 6 лет                        Pandas           16\n",
            "19         Более 6 лет                         Numpy           14\n"
          ]
        }
      ],
      "source": [
        "df = pd.read_sql_query(query_6_7, connection)\n",
        "print(df) "
      ]
    },
    {
      "cell_type": "code",
      "execution_count": 164,
      "id": "376753e5",
      "metadata": {},
      "outputs": [],
      "source": [
        "# закрыть соединение\n",
        "connection.close()"
      ]
    }
  ],
  "metadata": {
    "colab": {
      "collapsed_sections": [
        "8d62a9f3-f64e-4fe7-bdac-c4dffa16155e"
      ],
      "provenance": []
    },
    "kernelspec": {
      "display_name": "Python 3",
      "language": "python",
      "name": "python3"
    },
    "language_info": {
      "codemirror_mode": {
        "name": "ipython",
        "version": 3
      },
      "file_extension": ".py",
      "mimetype": "text/x-python",
      "name": "python",
      "nbconvert_exporter": "python",
      "pygments_lexer": "ipython3",
      "version": "3.12.8"
    }
  },
  "nbformat": 4,
  "nbformat_minor": 5
}
